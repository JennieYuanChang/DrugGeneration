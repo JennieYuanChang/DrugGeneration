{
 "cells": [
  {
   "cell_type": "code",
   "execution_count": null,
   "metadata": {
    "collapsed": true
   },
   "outputs": [],
   "source": [
    "# tensorflow backend\n",
    "from os import environ\n",
    "environ['KERAS_BACKEND'] = 'tensorflow'\n",
    "# vae stuff\n",
    "from chemvae.vae_utils import VAEUtils\n",
    "from chemvae import mol_utils as mu\n",
    "# import scientific py\n",
    "import numpy as np\n",
    "import pandas as pd\n",
    "\n",
    "# rdkit stuff\n",
    "from rdkit.Chem import AllChem as Chem\n",
    "from rdkit.Chem import PandasTools\n",
    "# plotting stuff\n",
    "import matplotlib.pyplot as plt\n",
    "import matplotlib as mpl\n",
    "from IPython.display import SVG, display\n",
    "from rdkit import Chem\n",
    "from rdkit.DataStructs import cDataStructs as cdat\n",
    "from rdkit import DataStructs\n",
    "from rdkit.DataStructs import cDataStructs as cdat\n",
    "from rdkit.Chem.Fingerprints import FingerprintMols\n",
    "%config InlineBackend.figure_format = 'retina'"
   ]
  },
  {
   "cell_type": "code",
   "execution_count": null,
   "metadata": {
    "collapsed": true
   },
   "outputs": [],
   "source": [
    "vae = VAEUtils(directory='../models/zinc_properties')\n",
    "\n",
    "def autoencode(smiles_1):\n",
    "    #smiles_1 = mu.canon_smiles(smile)\n",
    "\n",
    "    # one hot encode the smile\n",
    "    X_1 = vae.smiles_to_hot(smiles_1,canonize_smiles=True)\n",
    "    z_1 = vae.encode(X_1) # the latent representation of the molecule\n",
    "    noise=5.0\n",
    "    df = vae.z_to_smiles(z_1,decode_attempts=1000,noise_norm=noise)\n",
    "    return df['smiles'].values.tolist()\n",
    "\n",
    "def getFingerprintSimilarity(smile1,smile2, metric_name=cdat.TanimotoSimilarity):\n",
    "    \"\"\"\n",
    "    Args: \n",
    "        list: a list with Mol from SMILES data\n",
    "        Function Call: the function call for the metric from rdkit.DataStructs import cDataStructs\n",
    "        \n",
    "    Return: \n",
    "        Pandas DataFrame: a particular type of fingerprint similarity matrix\n",
    "    \"\"\"  \n",
    "    smile_list = [smile1,smile2]\n",
    "    molsmiles = [Chem.MolFromSmiles(i) for i in smile_list]\n",
    "    metric_names = [cdat.TanimotoSimilarity, cdat.DiceSimilarity, cdat.CosineSimilarity, cdat.SokalSimilarity]\n",
    "    \n",
    "    fps = [FingerprintMols.FingerprintMol(x) if x != None else 0 for x in molsmiles]\n",
    "\n",
    "    x = np.zeros((len(molsmiles),len(molsmiles)), dtype=np.float32)\n",
    "    \n",
    "    fingerprints = []\n",
    "    for i in range(len(x)):\n",
    "        for j in range(len(x)):\n",
    "            if fps[j] == 0 or fps[i] == 0:\n",
    "                fingerprints.append(np.nan)\n",
    "            else:\n",
    "                fingerprints.append((DataStructs.FingerprintSimilarity(fps[i],fps[j], metric_name)))\n",
    "                \n",
    "    fingerprints = np.array(fingerprints)\n",
    "    fingerprints = fingerprints.reshape(np.sqrt(len(fingerprints)).astype(int), \n",
    "                                        np.sqrt(len(fingerprints)).astype(int))\n",
    "    \n",
    "    fps = pd.DataFrame(fingerprints)\n",
    "    \n",
    "    return fps.values[0,1]"
   ]
  },
  {
   "cell_type": "code",
   "execution_count": null,
   "metadata": {
    "collapsed": true
   },
   "outputs": [],
   "source": [
    "inputMol = sys.argv[1]\n",
    "try:\n",
    "    for generatedDrug in autoencode(inputMol):\n",
    "        print(\"Generated drug structure: \", generatedDrug,\" Similarity: \",getFingerprintSimilarity(inputMol, generatedDrug))\n",
    "except Exception:\n",
    "    print(\"the input mor might not be valid, please check your input\")\n",
    "    pass"
   ]
  }
 ],
 "metadata": {
  "kernelspec": {
   "display_name": "Python 3",
   "language": "python",
   "name": "python3"
  },
  "language_info": {
   "codemirror_mode": {
    "name": "ipython",
    "version": 3
   },
   "file_extension": ".py",
   "mimetype": "text/x-python",
   "name": "python",
   "nbconvert_exporter": "python",
   "pygments_lexer": "ipython3",
   "version": "3.6.5"
  }
 },
 "nbformat": 4,
 "nbformat_minor": 2
}
